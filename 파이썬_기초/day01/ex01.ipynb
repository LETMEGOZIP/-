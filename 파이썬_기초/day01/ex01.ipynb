{
 "cells": [
  {
   "cell_type": "code",
   "execution_count": 4,
   "id": "2faafa19-098f-4fc9-a9dd-023247ebadbb",
   "metadata": {},
   "outputs": [
    {
     "name": "stdout",
     "output_type": "stream",
     "text": [
      "첫번째파이손(엄마손파이아님ㅎ)파일\n"
     ]
    }
   ],
   "source": [
    "print(\"첫번째파이손(엄마손파이아님ㅎ)파일\")"
   ]
  },
  {
   "cell_type": "code",
   "execution_count": 10,
   "id": "d557499f-2d07-4392-8177-7ed48f2100e9",
   "metadata": {},
   "outputs": [
    {
     "data": {
      "text/plain": [
       "8"
      ]
     },
     "execution_count": 10,
     "metadata": {},
     "output_type": "execute_result"
    }
   ],
   "source": [
    "# ** : 제곱 연산\n",
    "2**3 # 2의 3제곱"
   ]
  },
  {
   "cell_type": "code",
   "execution_count": 20,
   "id": "3e108109-f946-445a-8ab2-ea1834dd7ce1",
   "metadata": {},
   "outputs": [
    {
     "name": "stdout",
     "output_type": "stream",
     "text": [
      "1\n",
      "4\n"
     ]
    }
   ],
   "source": [
    "# % : 나머지 연산자\n",
    "# // : 몫을 구하는 연산자\n",
    "print(9%2)\n",
    "print(9//2)"
   ]
  },
  {
   "cell_type": "code",
   "execution_count": 60,
   "id": "f9bd65eb-197f-40dd-9b1c-e3492f1754f9",
   "metadata": {},
   "outputs": [
    {
     "ename": "TypeError",
     "evalue": "unsupported operand type(s) for +: 'type' and 'type'",
     "output_type": "error",
     "traceback": [
      "\u001b[1;31m---------------------------------------------------------------------------\u001b[0m",
      "\u001b[1;31mTypeError\u001b[0m                                 Traceback (most recent call last)",
      "Cell \u001b[1;32mIn[60], line 5\u001b[0m\n\u001b[0;32m      3\u001b[0m c\u001b[38;5;241m=\u001b[39m\u001b[38;5;124m\"\u001b[39m\u001b[38;5;124mpython\u001b[39m\u001b[38;5;124m\"\u001b[39m\n\u001b[0;32m      4\u001b[0m d\u001b[38;5;241m=\u001b[39m\u001b[38;5;124m'\u001b[39m\u001b[38;5;124mpython\u001b[39m\u001b[38;5;124m'\u001b[39m\n\u001b[1;32m----> 5\u001b[0m \u001b[38;5;28mtype\u001b[39m(a) \u001b[38;5;241m+\u001b[39m \u001b[38;5;28mtype\u001b[39m(b) \u001b[38;5;241m+\u001b[39m \u001b[38;5;28mtype\u001b[39m(c)\n",
      "\u001b[1;31mTypeError\u001b[0m: unsupported operand type(s) for +: 'type' and 'type'"
     ]
    }
   ],
   "source": [
    "a=100\n",
    "b=100.2\n",
    "c=\"python\"\n",
    "d='python'\n",
    "type(a) + type(b) + type(c)"
   ]
  },
  {
   "cell_type": "code",
   "execution_count": 30,
   "id": "43b4c6c5-7b1b-4588-808d-209b8df83128",
   "metadata": {},
   "outputs": [
    {
     "data": {
      "text/plain": [
       "\"python's favorite food is perl\""
      ]
     },
     "execution_count": 30,
     "metadata": {},
     "output_type": "execute_result"
    }
   ],
   "source": [
    "#'python's favorite food is perl' - 문법 오류 발생\n",
    "'python\\'s favorite food is perl' # \\' - 작은 따옴표 인식 가능 \\ = escape 문자"
   ]
  },
  {
   "cell_type": "code",
   "execution_count": 34,
   "id": "ed845b3d-c0db-43bf-9252-e32aa9de4013",
   "metadata": {},
   "outputs": [
    {
     "name": "stdout",
     "output_type": "stream",
     "text": [
      "Life is short\n",
      "You need python\n"
     ]
    }
   ],
   "source": [
    "a = \"Life is short\\nYou need python\" # \\n - 메타 문자 / 줄 개행\n",
    "print(a)"
   ]
  },
  {
   "cell_type": "code",
   "execution_count": 38,
   "id": "9a5be884-1463-4a6e-baa9-2a5e3a74aa82",
   "metadata": {},
   "outputs": [
    {
     "name": "stdout",
     "output_type": "stream",
     "text": [
      "Life is short\n",
      "You need python\n"
     ]
    }
   ],
   "source": [
    "a= \"\"\"Life is short\n",
    "You need python\"\"\"\n",
    "print(a)"
   ]
  },
  {
   "cell_type": "code",
   "execution_count": 42,
   "id": "2d859bb1-9380-400e-ba94-535e3cdca7e9",
   "metadata": {},
   "outputs": [
    {
     "data": {
      "text/plain": [
       "'python is fun'"
      ]
     },
     "execution_count": 42,
     "metadata": {},
     "output_type": "execute_result"
    }
   ],
   "source": [
    "\"python\" + \" is \" + \"fun\""
   ]
  },
  {
   "cell_type": "code",
   "execution_count": 44,
   "id": "d70f327f-630f-45bf-8321-990ddc883509",
   "metadata": {},
   "outputs": [
    {
     "data": {
      "text/plain": [
       "'pythonpythonpython'"
      ]
     },
     "execution_count": 44,
     "metadata": {},
     "output_type": "execute_result"
    }
   ],
   "source": [
    "\"python\" * 3"
   ]
  },
  {
   "cell_type": "code",
   "execution_count": 46,
   "id": "814bae37-1857-4031-9243-47447b296649",
   "metadata": {},
   "outputs": [
    {
     "name": "stdout",
     "output_type": "stream",
     "text": [
      "==============================\n",
      "재미있는 파이선 공부\n",
      "==============================\n"
     ]
    }
   ],
   "source": [
    "print(\"=\" * 30)\n",
    "print(\"재미있는 파이선 공부\")\n",
    "print(\"=\" * 30)"
   ]
  },
  {
   "cell_type": "code",
   "execution_count": 48,
   "id": "10100c9f-d784-414b-9b97-77059b6ac612",
   "metadata": {},
   "outputs": [
    {
     "data": {
      "text/plain": [
       "5"
      ]
     },
     "execution_count": 48,
     "metadata": {},
     "output_type": "execute_result"
    }
   ],
   "source": [
    "a = \"가나다라마\"\n",
    "len(a)"
   ]
  },
  {
   "cell_type": "code",
   "execution_count": 80,
   "id": "3d3e91f1-5938-4154-a087-a2397c351e5c",
   "metadata": {},
   "outputs": [],
   "source": [
    "a = \"life is too short you need python\""
   ]
  },
  {
   "cell_type": "code",
   "execution_count": 104,
   "id": "a398187f-0068-4b9d-975a-f07654ced540",
   "metadata": {},
   "outputs": [
    {
     "name": "stdout",
     "output_type": "stream",
     "text": [
      "life is too short you need python\n",
      "2386155806576 2386155806576\n"
     ]
    }
   ],
   "source": [
    "b=a[:]\n",
    "print(b)\n",
    "print(id(a), id(b))"
   ]
  },
  {
   "cell_type": "code",
   "execution_count": 98,
   "id": "265873bb-e1e5-4b17-ad1c-59fd3513a1fc",
   "metadata": {},
   "outputs": [
    {
     "data": {
      "text/plain": [
       "''"
      ]
     },
     "execution_count": 98,
     "metadata": {},
     "output_type": "execute_result"
    }
   ],
   "source": [
    "a[-6:-0]"
   ]
  },
  {
   "cell_type": "code",
   "execution_count": 100,
   "id": "f34da517-1089-4369-87c9-3fc3c9e8b092",
   "metadata": {},
   "outputs": [
    {
     "data": {
      "text/plain": [
       "'python'"
      ]
     },
     "execution_count": 100,
     "metadata": {},
     "output_type": "execute_result"
    }
   ],
   "source": [
    "a[-6:]"
   ]
  },
  {
   "cell_type": "code",
   "execution_count": 82,
   "id": "8f7e58d9-1f15-4fdf-ae7c-f07c4d727dd6",
   "metadata": {},
   "outputs": [
    {
     "data": {
      "text/plain": [
       "'life'"
      ]
     },
     "execution_count": 82,
     "metadata": {},
     "output_type": "execute_result"
    }
   ],
   "source": [
    "a[0:4]"
   ]
  },
  {
   "cell_type": "code",
   "execution_count": 78,
   "id": "22031f32-be5f-4f90-947b-58b1a9d709f0",
   "metadata": {},
   "outputs": [
    {
     "data": {
      "text/plain": [
       "'n'"
      ]
     },
     "execution_count": 78,
     "metadata": {},
     "output_type": "execute_result"
    }
   ],
   "source": [
    "a[-1]"
   ]
  },
  {
   "cell_type": "code",
   "execution_count": 58,
   "id": "4a30754c-d6af-4c46-abb6-f3cc09eb9637",
   "metadata": {},
   "outputs": [
    {
     "data": {
      "text/plain": [
       "'f'"
      ]
     },
     "execution_count": 58,
     "metadata": {},
     "output_type": "execute_result"
    }
   ],
   "source": [
    "a[2]"
   ]
  },
  {
   "cell_type": "code",
   "execution_count": 62,
   "id": "fb8bb1d2-7613-411b-adf3-716e3caf7ed7",
   "metadata": {},
   "outputs": [
    {
     "ename": "TypeError",
     "evalue": "'int' object does not support item assignment",
     "output_type": "error",
     "traceback": [
      "\u001b[1;31m---------------------------------------------------------------------------\u001b[0m",
      "\u001b[1;31mTypeError\u001b[0m                                 Traceback (most recent call last)",
      "Cell \u001b[1;32mIn[62], line 1\u001b[0m\n\u001b[1;32m----> 1\u001b[0m a[\u001b[38;5;241m2\u001b[39m] \u001b[38;5;241m=\u001b[39m \u001b[38;5;124m'\u001b[39m\u001b[38;5;124mf\u001b[39m\u001b[38;5;124m'\u001b[39m\n",
      "\u001b[1;31mTypeError\u001b[0m: 'int' object does not support item assignment"
     ]
    }
   ],
   "source": [
    "a[2] = 'f'"
   ]
  },
  {
   "cell_type": "code",
   "execution_count": 72,
   "id": "ea2c55fc-0d95-4ccb-9f56-6f66c7f7e108",
   "metadata": {},
   "outputs": [
    {
     "name": "stdout",
     "output_type": "stream",
     "text": [
      "140707128558512\n",
      "2386155834512\n"
     ]
    }
   ],
   "source": [
    "b = \"ABC\" # id(...) 자원의 주소를 조회하는 함수\n",
    "print(id(b))\n",
    "b+=\"DEF\"\n",
    "print(id(b)) # 문자열은 불변이기에 추가하면 새로운 문자열 객체가 생성\n"
   ]
  },
  {
   "cell_type": "code",
   "execution_count": 108,
   "id": "fc5ba0d1-626b-47f4-a05a-2c6888868dbd",
   "metadata": {},
   "outputs": [
    {
     "name": "stdout",
     "output_type": "stream",
     "text": [
      "Python\n"
     ]
    }
   ],
   "source": [
    "a = \"Pithon\" # \"Python\"으로 변경\n",
    "b = a[0] + 'y' + a[2:]\n",
    "print(b)"
   ]
  },
  {
   "cell_type": "code",
   "execution_count": 116,
   "id": "3a07c6dd-1f94-48a3-b7b1-21faca08deda",
   "metadata": {},
   "outputs": [
    {
     "data": {
      "text/plain": [
       "'I eat three apples.'"
      ]
     },
     "execution_count": 116,
     "metadata": {},
     "output_type": "execute_result"
    }
   ],
   "source": [
    "# \"I eat %d apples.\" % 3\n",
    "\"I eat %s apples.\" % \"three\""
   ]
  },
  {
   "cell_type": "code",
   "execution_count": 120,
   "id": "fbd076e8-eb89-4602-af3d-9730cadd6637",
   "metadata": {},
   "outputs": [
    {
     "data": {
      "text/plain": [
       "'I eat 3 apples and 5 breads'"
      ]
     },
     "execution_count": 120,
     "metadata": {},
     "output_type": "execute_result"
    }
   ],
   "source": [
    "\"I eat %d apples and %d breads\" %(3, 5) # String.format(...)"
   ]
  },
  {
   "cell_type": "code",
   "execution_count": 122,
   "id": "5a0877dc-63d6-488d-9323-5004a162be29",
   "metadata": {},
   "outputs": [
    {
     "ename": "ValueError",
     "evalue": "incomplete format",
     "output_type": "error",
     "traceback": [
      "\u001b[1;31m---------------------------------------------------------------------------\u001b[0m",
      "\u001b[1;31mValueError\u001b[0m                                Traceback (most recent call last)",
      "Cell \u001b[1;32mIn[122], line 1\u001b[0m\n\u001b[1;32m----> 1\u001b[0m \u001b[38;5;124m\"\u001b[39m\u001b[38;5;124mloading is now \u001b[39m\u001b[38;5;132;01m%d\u001b[39;00m\u001b[38;5;124m%\u001b[39m\u001b[38;5;124m\"\u001b[39m \u001b[38;5;241m%\u001b[39m \u001b[38;5;241m78\u001b[39m\n",
      "\u001b[1;31mValueError\u001b[0m: incomplete format"
     ]
    }
   ],
   "source": [
    "\"loading is now %d%%\" % 78 # % : 형식화를 위한 문법적 문자로 인식하므로 %% 써야 % 문자로 인식"
   ]
  },
  {
   "cell_type": "code",
   "execution_count": 124,
   "id": "600c5840-7d08-4d1b-b05d-10b4023a880a",
   "metadata": {},
   "outputs": [
    {
     "data": {
      "text/plain": [
       "'       ABCDEF'"
      ]
     },
     "execution_count": 124,
     "metadata": {},
     "output_type": "execute_result"
    }
   ],
   "source": [
    "\"%10sDEF\" % \"ABC\""
   ]
  },
  {
   "cell_type": "code",
   "execution_count": 126,
   "id": "e11422a0-8050-422a-bc3e-bc0a340ab2a6",
   "metadata": {},
   "outputs": [
    {
     "data": {
      "text/plain": [
       "'ABC       DEF'"
      ]
     },
     "execution_count": 126,
     "metadata": {},
     "output_type": "execute_result"
    }
   ],
   "source": [
    "\"%-10sDEF\" % \"ABC\""
   ]
  },
  {
   "cell_type": "code",
   "execution_count": 130,
   "id": "41e54613-d65f-4ddb-a834-c32801c24f82",
   "metadata": {},
   "outputs": [
    {
     "data": {
      "text/plain": [
       "'   12.1231'"
      ]
     },
     "execution_count": 130,
     "metadata": {},
     "output_type": "execute_result"
    }
   ],
   "source": [
    "\"%10.4f\" % 12.123123123"
   ]
  },
  {
   "cell_type": "code",
   "execution_count": 134,
   "id": "e3e0b115-7b59-41ce-8d32-c41c9aa7e0fb",
   "metadata": {},
   "outputs": [
    {
     "data": {
      "text/plain": [
       "'132123.1231'"
      ]
     },
     "execution_count": 134,
     "metadata": {},
     "output_type": "execute_result"
    }
   ],
   "source": [
    "\"%0.4f\" % 132123.12312312313312"
   ]
  },
  {
   "cell_type": "code",
   "execution_count": 146,
   "id": "a867a06f-69dc-4c99-a824-ec20698beba0",
   "metadata": {},
   "outputs": [
    {
     "data": {
      "text/plain": [
       "'I eat 3, 4 apples and five breads'"
      ]
     },
     "execution_count": 146,
     "metadata": {},
     "output_type": "execute_result"
    }
   ],
   "source": [
    "\"I eat {0} apples.\".format(3)\n",
    "\"I eat {0} apples.\".format(\"three\")\n",
    "\"I eat {0} apples and {1} breads\".format(\"three\", 2)\n",
    "\"I eat {num1} apples and {num2} breads\".format(num1=3, num2=5)\n",
    "\"I eat {0}, {1} apples and {num} breads\".format(3,4,num=\"five\")"
   ]
  },
  {
   "cell_type": "code",
   "execution_count": 148,
   "id": "9a117a56-5067-4c8b-8aa3-050e261045d1",
   "metadata": {},
   "outputs": [
    {
     "data": {
      "text/plain": [
       "'안녕        '"
      ]
     },
     "execution_count": 148,
     "metadata": {},
     "output_type": "execute_result"
    }
   ],
   "source": [
    "\"{0:<10}\".format(\"안녕\")"
   ]
  },
  {
   "cell_type": "code",
   "execution_count": 158,
   "id": "97165421-467e-453c-ae00-b01f33a2ed75",
   "metadata": {},
   "outputs": [
    {
     "data": {
      "text/plain": [
       "'!!!!!!!!안녕'"
      ]
     },
     "execution_count": 158,
     "metadata": {},
     "output_type": "execute_result"
    }
   ],
   "source": [
    "\"{0:!>10}\".format(\"안녕\")"
   ]
  },
  {
   "cell_type": "code",
   "execution_count": 160,
   "id": "abc01a6d-97b2-47db-b92e-d900096b4401",
   "metadata": {},
   "outputs": [
    {
     "data": {
      "text/plain": [
       "'????안녕????'"
      ]
     },
     "execution_count": 160,
     "metadata": {},
     "output_type": "execute_result"
    }
   ],
   "source": [
    "\"{0:?^10}\".format(\"안녕\")"
   ]
  },
  {
   "cell_type": "code",
   "execution_count": 168,
   "id": "ffccddb5-b4f3-4aa4-bbbe-588a3e77ebfc",
   "metadata": {},
   "outputs": [
    {
     "data": {
      "text/plain": [
       "'1651.4685'"
      ]
     },
     "execution_count": 168,
     "metadata": {},
     "output_type": "execute_result"
    }
   ],
   "source": [
    "\"{0:0.04f}\".format(1651.46854)"
   ]
  },
  {
   "cell_type": "code",
   "execution_count": 170,
   "id": "e2ce2d6e-c954-46de-bf43-2ff079c8b49c",
   "metadata": {},
   "outputs": [
    {
     "data": {
      "text/plain": [
       "'{number1} - 100'"
      ]
     },
     "execution_count": 170,
     "metadata": {},
     "output_type": "execute_result"
    }
   ],
   "source": [
    "\"{{number1}} - {0}\".format(100)"
   ]
  },
  {
   "cell_type": "code",
   "execution_count": 174,
   "id": "c7113714-af6f-493c-b41b-802ad1c15b95",
   "metadata": {},
   "outputs": [
    {
     "data": {
      "text/plain": [
       "'num1=10, num2=20, result=30'"
      ]
     },
     "execution_count": 174,
     "metadata": {},
     "output_type": "execute_result"
    }
   ],
   "source": [
    "num1 = 10\n",
    "num2 = 20\n",
    "f\"num1={num1}, num2={num2}, result={num1+num2}\" # 파이썬 3.6부터 도입된 문법"
   ]
  },
  {
   "cell_type": "code",
   "execution_count": 184,
   "id": "cb617b72-6ab2-4e42-aa08-ab2bb380ff4a",
   "metadata": {},
   "outputs": [
    {
     "data": {
      "text/plain": [
       "'****안녕****'"
      ]
     },
     "execution_count": 184,
     "metadata": {},
     "output_type": "execute_result"
    }
   ],
   "source": [
    "f\"{'안녕':<10}\"\n",
    "f\"{'안녕':>10}\"\n",
    "f\"{'안녕':^10}\"\n",
    "f\"{'안녕':*^10}\""
   ]
  },
  {
   "cell_type": "code",
   "execution_count": 186,
   "id": "155eb9b7-c421-42f7-909b-331795e7b74d",
   "metadata": {},
   "outputs": [
    {
     "data": {
      "text/plain": [
       "8"
      ]
     },
     "execution_count": 186,
     "metadata": {},
     "output_type": "execute_result"
    }
   ],
   "source": [
    "a = \"Life is too short, you need Python.\"\n",
    "a.find(\"too\")"
   ]
  },
  {
   "cell_type": "code",
   "execution_count": null,
   "id": "6b0254fb-6bb3-4de4-aa52-6fcb7a81d348",
   "metadata": {},
   "outputs": [],
   "source": []
  }
 ],
 "metadata": {
  "kernelspec": {
   "display_name": "Python 3 (ipykernel)",
   "language": "python",
   "name": "python3"
  },
  "language_info": {
   "codemirror_mode": {
    "name": "ipython",
    "version": 3
   },
   "file_extension": ".py",
   "mimetype": "text/x-python",
   "name": "python",
   "nbconvert_exporter": "python",
   "pygments_lexer": "ipython3",
   "version": "3.12.7"
  }
 },
 "nbformat": 4,
 "nbformat_minor": 5
}
