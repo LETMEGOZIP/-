{
 "cells": [
  {
   "cell_type": "code",
   "execution_count": 5,
   "id": "942ed733-421c-4676-b3d4-b50867a8e4bd",
   "metadata": {},
   "outputs": [],
   "source": [
    "a = (1, 2, 3)\n",
    "# a = (1) 튜플이 아니라 숫자 1로 인식\n",
    "a = (1,) # 튜플로 인식"
   ]
  },
  {
   "cell_type": "code",
   "execution_count": 2,
   "id": "84ff5dca-5bed-4383-a301-1e05812af106",
   "metadata": {},
   "outputs": [
    {
     "data": {
      "text/plain": [
       "2"
      ]
     },
     "execution_count": 2,
     "metadata": {},
     "output_type": "execute_result"
    }
   ],
   "source": [
    "a[1]"
   ]
  },
  {
   "cell_type": "code",
   "execution_count": 3,
   "id": "9cbdc037-eeb4-43a2-904e-3dc7c02b90fb",
   "metadata": {},
   "outputs": [
    {
     "ename": "TypeError",
     "evalue": "'tuple' object does not support item assignment",
     "output_type": "error",
     "traceback": [
      "\u001b[1;31m---------------------------------------------------------------------------\u001b[0m",
      "\u001b[1;31mTypeError\u001b[0m                                 Traceback (most recent call last)",
      "Cell \u001b[1;32mIn[3], line 1\u001b[0m\n\u001b[1;32m----> 1\u001b[0m a[\u001b[38;5;241m1\u001b[39m] \u001b[38;5;241m=\u001b[39m a\n",
      "\u001b[1;31mTypeError\u001b[0m: 'tuple' object does not support item assignment"
     ]
    }
   ],
   "source": [
    "a[1] = a # 튜플은 변경 불가라 수정시 예외 발생"
   ]
  },
  {
   "cell_type": "code",
   "execution_count": 6,
   "id": "b2387267-53fa-47ad-bf25-adb6d64bfb52",
   "metadata": {},
   "outputs": [
    {
     "data": {
      "text/plain": [
       "(1,)"
      ]
     },
     "execution_count": 6,
     "metadata": {},
     "output_type": "execute_result"
    }
   ],
   "source": [
    "a"
   ]
  },
  {
   "cell_type": "code",
   "execution_count": 7,
   "id": "f5946ec8-e2ff-4a95-adff-869ece601cb2",
   "metadata": {},
   "outputs": [],
   "source": [
    "a = 1, 2, 3, 4, 5 # tuple로 인식"
   ]
  },
  {
   "cell_type": "code",
   "execution_count": 9,
   "id": "9dc0185d-1e94-433b-b4bf-faf8337324cb",
   "metadata": {},
   "outputs": [
    {
     "data": {
      "text/plain": [
       "(1, 2, 3, 4, 5)"
      ]
     },
     "execution_count": 9,
     "metadata": {},
     "output_type": "execute_result"
    }
   ],
   "source": [
    "a"
   ]
  },
  {
   "cell_type": "code",
   "execution_count": 10,
   "id": "6aab9b71-dfb4-4397-a08a-ce8493266eac",
   "metadata": {},
   "outputs": [],
   "source": [
    "a = (1,2,3)\n",
    "b = (3,4,5)"
   ]
  },
  {
   "cell_type": "code",
   "execution_count": 11,
   "id": "14ec319a-9a78-47d7-827e-83a2db67965a",
   "metadata": {},
   "outputs": [
    {
     "name": "stdout",
     "output_type": "stream",
     "text": [
      "(1, 2, 3, 3, 4, 5)\n"
     ]
    }
   ],
   "source": [
    "c = a + b\n",
    "print(c)"
   ]
  },
  {
   "cell_type": "code",
   "execution_count": 12,
   "id": "8b3fe000-652b-496b-bb11-3d20340d50cf",
   "metadata": {},
   "outputs": [
    {
     "name": "stdout",
     "output_type": "stream",
     "text": [
      "(1, 2, 3, 1, 2, 3, 1, 2, 3)\n"
     ]
    }
   ],
   "source": [
    "d = a * 3\n",
    "print(d)"
   ]
  },
  {
   "cell_type": "code",
   "execution_count": 16,
   "id": "360ba9d9-74e0-4c91-86d4-1e2460f3ff1a",
   "metadata": {},
   "outputs": [],
   "source": [
    "a = (\"사과사과\", \"오렌지오렌지\")\n",
    "# a = \"사과사과, \"오렌지오렌지\""
   ]
  },
  {
   "cell_type": "code",
   "execution_count": 17,
   "id": "27a54fd8-6d45-46cf-a40a-950e387cae4f",
   "metadata": {},
   "outputs": [],
   "source": [
    "(apple, orange) = a\n",
    "# apple, orange = a"
   ]
  },
  {
   "cell_type": "code",
   "execution_count": 18,
   "id": "8b90075a-0bea-4cf4-a691-5e2178fe8246",
   "metadata": {},
   "outputs": [
    {
     "name": "stdout",
     "output_type": "stream",
     "text": [
      "사과사과 오렌지오렌지\n"
     ]
    }
   ],
   "source": [
    "print (apple, orange)"
   ]
  },
  {
   "cell_type": "code",
   "execution_count": 19,
   "id": "3275a729-52e3-4691-ac49-544ea5ebb9c0",
   "metadata": {},
   "outputs": [],
   "source": [
    "a = 20\n",
    "b = 10"
   ]
  },
  {
   "cell_type": "code",
   "execution_count": 20,
   "id": "c72c2c2f-6c7c-478e-b63c-4dba60016323",
   "metadata": {},
   "outputs": [],
   "source": [
    "b, a = a, b"
   ]
  },
  {
   "cell_type": "code",
   "execution_count": 21,
   "id": "61df9c32-993b-4191-967b-7580042b82c1",
   "metadata": {},
   "outputs": [
    {
     "name": "stdout",
     "output_type": "stream",
     "text": [
      "10 20\n"
     ]
    }
   ],
   "source": [
    "print(a, b)"
   ]
  },
  {
   "cell_type": "code",
   "execution_count": null,
   "id": "1aa5703d-b177-4601-bbcb-196360be45d7",
   "metadata": {},
   "outputs": [],
   "source": []
  }
 ],
 "metadata": {
  "kernelspec": {
   "display_name": "Python 3 (ipykernel)",
   "language": "python",
   "name": "python3"
  },
  "language_info": {
   "codemirror_mode": {
    "name": "ipython",
    "version": 3
   },
   "file_extension": ".py",
   "mimetype": "text/x-python",
   "name": "python",
   "nbconvert_exporter": "python",
   "pygments_lexer": "ipython3",
   "version": "3.12.7"
  }
 },
 "nbformat": 4,
 "nbformat_minor": 5
}
