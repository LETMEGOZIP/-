{
 "cells": [
  {
   "cell_type": "code",
   "execution_count": 1,
   "id": "47c19a3a-8f83-4c84-91aa-a47d0341d2d4",
   "metadata": {},
   "outputs": [],
   "source": [
    "a = \"\" # 거짓\n",
    "b = \"1\" # 참\n",
    "c = \" \" # 참"
   ]
  },
  {
   "cell_type": "code",
   "execution_count": 2,
   "id": "72c93753-19a3-4a15-9435-aedaf6dac4f5",
   "metadata": {},
   "outputs": [
    {
     "name": "stdout",
     "output_type": "stream",
     "text": [
      "거짓\n"
     ]
    }
   ],
   "source": [
    "if a:\n",
    "    print(\"참\")\n",
    "else:\n",
    "    print(\"거짓\")"
   ]
  },
  {
   "cell_type": "code",
   "execution_count": 3,
   "id": "4fa5ae27-56d3-40cd-81ab-bd29f8215885",
   "metadata": {},
   "outputs": [
    {
     "name": "stdout",
     "output_type": "stream",
     "text": [
      "False\n",
      "True\n",
      "False\n",
      "False\n",
      "False\n"
     ]
    }
   ],
   "source": [
    "print(bool(\"\")) #False\n",
    "print(bool(\"1\")) # True\n",
    "print(bool([])) # False\n",
    "print(bool(())) # False\n",
    "print(bool(None)) # False"
   ]
  },
  {
   "cell_type": "code",
   "execution_count": null,
   "id": "9d151786-71b5-4d48-a64e-ce13fc47a960",
   "metadata": {},
   "outputs": [],
   "source": []
  }
 ],
 "metadata": {
  "kernelspec": {
   "display_name": "Python 3 (ipykernel)",
   "language": "python",
   "name": "python3"
  },
  "language_info": {
   "codemirror_mode": {
    "name": "ipython",
    "version": 3
   },
   "file_extension": ".py",
   "mimetype": "text/x-python",
   "name": "python",
   "nbconvert_exporter": "python",
   "pygments_lexer": "ipython3",
   "version": "3.12.7"
  }
 },
 "nbformat": 4,
 "nbformat_minor": 5
}
