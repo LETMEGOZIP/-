{
 "cells": [
  {
   "cell_type": "code",
   "execution_count": 8,
   "id": "7a18d5bb-b747-450f-9d7e-528812a6a69e",
   "metadata": {},
   "outputs": [],
   "source": [
    "a = 10 # 자바의 리터럴 상수와 비슷, 재료가 되는 수는 1개의 주소를 가지고 공유\n",
    "b = 10"
   ]
  },
  {
   "cell_type": "code",
   "execution_count": 9,
   "id": "2f80430e-03c5-47d5-889e-2d23cb0a6a3c",
   "metadata": {},
   "outputs": [
    {
     "name": "stdout",
     "output_type": "stream",
     "text": [
      "140715092421336 140715092421336\n"
     ]
    }
   ],
   "source": [
    "print(id(a), id(b))"
   ]
  },
  {
   "cell_type": "code",
   "execution_count": 11,
   "id": "1a7679b1-2b82-46e6-9803-e463058cd8b0",
   "metadata": {},
   "outputs": [],
   "source": [
    "a = [1, 2, 3, 4, 5] # a는 참조 변수"
   ]
  },
  {
   "cell_type": "code",
   "execution_count": 12,
   "id": "815a596d-7682-497b-845a-16ef40ef0b7b",
   "metadata": {},
   "outputs": [],
   "source": [
    "b = a # b는 a가 가진 주소값이 대입"
   ]
  },
  {
   "cell_type": "code",
   "execution_count": 13,
   "id": "3381925f-c73a-4333-bd7a-e1b272c3d71e",
   "metadata": {},
   "outputs": [],
   "source": [
    "b[1] = '둘'"
   ]
  },
  {
   "cell_type": "code",
   "execution_count": 14,
   "id": "78a5ad6d-331d-4c3b-8afa-98f3837687c6",
   "metadata": {},
   "outputs": [
    {
     "name": "stdout",
     "output_type": "stream",
     "text": [
      "[1, '둘', 3, 4, 5]\n",
      "[1, '둘', 3, 4, 5]\n"
     ]
    }
   ],
   "source": [
    "print(b)\n",
    "print(a)"
   ]
  },
  {
   "cell_type": "code",
   "execution_count": 15,
   "id": "71f5a902-e2b3-429a-83b6-62ff7bbc8a85",
   "metadata": {},
   "outputs": [
    {
     "name": "stdout",
     "output_type": "stream",
     "text": [
      "2157440391616 2157440391616\n"
     ]
    }
   ],
   "source": [
    "print(id(a), id(b))"
   ]
  },
  {
   "cell_type": "code",
   "execution_count": 18,
   "id": "8ebbef12-c9b9-451b-95d4-11675e078723",
   "metadata": {},
   "outputs": [
    {
     "data": {
      "text/plain": [
       "True"
      ]
     },
     "execution_count": 18,
     "metadata": {},
     "output_type": "execute_result"
    }
   ],
   "source": [
    "# a == b # 주소 비교\n",
    "a is b # a, b가 같은 객체를 참조하는지 확인"
   ]
  },
  {
   "cell_type": "code",
   "execution_count": 19,
   "id": "7841bff5-c63b-47f7-a1c8-1bbe89031593",
   "metadata": {},
   "outputs": [],
   "source": [
    "a = [1,2,3,4,5]"
   ]
  },
  {
   "cell_type": "code",
   "execution_count": 20,
   "id": "bfea48a0-ebdb-4497-9daf-f712ae3124bd",
   "metadata": {},
   "outputs": [],
   "source": [
    "b = a[:] # 전체 값을 복사해서 새로운 리스트 객체로"
   ]
  },
  {
   "cell_type": "code",
   "execution_count": 21,
   "id": "901af9b2-f169-4da3-8d45-ae7d5ed8d032",
   "metadata": {},
   "outputs": [],
   "source": [
    "b[1] = '둘'"
   ]
  },
  {
   "cell_type": "code",
   "execution_count": 22,
   "id": "3604329b-248c-476d-879e-cfa8fd97b47c",
   "metadata": {},
   "outputs": [
    {
     "name": "stdout",
     "output_type": "stream",
     "text": [
      "[1, 2, 3, 4, 5] [1, '둘', 3, 4, 5] 2157440351168 2157440397312\n"
     ]
    }
   ],
   "source": [
    "print(a, b, id(a), id(b))"
   ]
  },
  {
   "cell_type": "code",
   "execution_count": 23,
   "id": "3771dca2-7205-4e17-b455-8f7d255f533d",
   "metadata": {},
   "outputs": [],
   "source": [
    "c = a.copy() # 전체 값을 복사해서 새로운 리스트 객체로 만듬"
   ]
  },
  {
   "cell_type": "code",
   "execution_count": 24,
   "id": "870bb6cf-9627-4961-bb93-17fc84ca8315",
   "metadata": {},
   "outputs": [],
   "source": [
    "c[2] = '셋'"
   ]
  },
  {
   "cell_type": "code",
   "execution_count": 25,
   "id": "e4ac5e60-f455-496e-9043-25debb4c652a",
   "metadata": {},
   "outputs": [
    {
     "name": "stdout",
     "output_type": "stream",
     "text": [
      "[1, 2, 3, 4, 5] [1, 2, '셋', 4, 5] 2157440351168 2157440440640\n"
     ]
    }
   ],
   "source": [
    "print(a, c, id(a), id(c))"
   ]
  },
  {
   "cell_type": "code",
   "execution_count": 26,
   "id": "18a0ca7c-593c-45c5-886d-38b403311fca",
   "metadata": {},
   "outputs": [],
   "source": [
    "[a,b] = ['사과', '오렌지']"
   ]
  },
  {
   "cell_type": "code",
   "execution_count": 27,
   "id": "9f96267b-45d9-4598-828c-a10a76a565d3",
   "metadata": {},
   "outputs": [
    {
     "name": "stdout",
     "output_type": "stream",
     "text": [
      "사과 오렌지\n"
     ]
    }
   ],
   "source": [
    "print(a,b)"
   ]
  },
  {
   "cell_type": "code",
   "execution_count": null,
   "id": "38c339a1-9744-42e5-9a54-db36251e7f39",
   "metadata": {},
   "outputs": [],
   "source": []
  }
 ],
 "metadata": {
  "kernelspec": {
   "display_name": "Python 3 (ipykernel)",
   "language": "python",
   "name": "python3"
  },
  "language_info": {
   "codemirror_mode": {
    "name": "ipython",
    "version": 3
   },
   "file_extension": ".py",
   "mimetype": "text/x-python",
   "name": "python",
   "nbconvert_exporter": "python",
   "pygments_lexer": "ipython3",
   "version": "3.12.7"
  }
 },
 "nbformat": 4,
 "nbformat_minor": 5
}
