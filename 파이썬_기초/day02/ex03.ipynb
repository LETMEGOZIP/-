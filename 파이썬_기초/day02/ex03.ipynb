{
 "cells": [
  {
   "cell_type": "code",
   "execution_count": 1,
   "id": "3a66fc8b-8ccb-434f-be39-e7b83cee9b1a",
   "metadata": {},
   "outputs": [],
   "source": [
    "person = {'name' : '이이름', 'age': 40}"
   ]
  },
  {
   "cell_type": "code",
   "execution_count": 8,
   "id": "e8d9ace0-e636-4453-aa96-47fd329f1d79",
   "metadata": {},
   "outputs": [
    {
     "data": {
      "text/plain": [
       "{'name': '이이름', 'age': 40, 'address': '주소'}"
      ]
     },
     "execution_count": 8,
     "metadata": {},
     "output_type": "execute_result"
    }
   ],
   "source": [
    "person['name'] = '(수정)이이름'\n",
    "person['address'] = '주소'\n",
    "del person['address']\n",
    "person"
   ]
  },
  {
   "cell_type": "code",
   "execution_count": 2,
   "id": "b0b24c55-9e2f-4b19-9ec9-4571a605680e",
   "metadata": {},
   "outputs": [
    {
     "data": {
      "text/plain": [
       "{'name': '이이름', 'age': 40}"
      ]
     },
     "execution_count": 2,
     "metadata": {},
     "output_type": "execute_result"
    }
   ],
   "source": [
    "person"
   ]
  },
  {
   "cell_type": "code",
   "execution_count": 6,
   "id": "12307436-2054-4aeb-a129-3596568c76df",
   "metadata": {},
   "outputs": [
    {
     "data": {
      "text/plain": [
       "dict"
      ]
     },
     "execution_count": 6,
     "metadata": {},
     "output_type": "execute_result"
    }
   ],
   "source": [
    "type(person)"
   ]
  },
  {
   "cell_type": "code",
   "execution_count": 11,
   "id": "6417afd5-0f96-4884-a3e2-d602423dad13",
   "metadata": {},
   "outputs": [
    {
     "data": {
      "text/plain": [
       "{'name': '이이름', 'address': '주소'}"
      ]
     },
     "execution_count": 11,
     "metadata": {},
     "output_type": "execute_result"
    }
   ],
   "source": [
    "person.pop('age')\n",
    "person"
   ]
  },
  {
   "cell_type": "code",
   "execution_count": 13,
   "id": "2c7349a9-8a22-43b4-9203-ecba2a638a81",
   "metadata": {},
   "outputs": [
    {
     "name": "stdout",
     "output_type": "stream",
     "text": [
      "40\n"
     ]
    }
   ],
   "source": [
    "# person=['age'] 예외 발생\n",
    "# person.get('age')\n",
    "age = person.get('age', 40) # 기본값 40\n",
    "print(age)"
   ]
  },
  {
   "cell_type": "code",
   "execution_count": 28,
   "id": "89dae447-2adb-477a-ace5-3242910831a2",
   "metadata": {},
   "outputs": [
    {
     "name": "stdout",
     "output_type": "stream",
     "text": [
      "dict_keys(['name', 'age']) dict_values(['이이름', 40])\n"
     ]
    }
   ],
   "source": [
    "person = {\"name\" : '이이름', 'age' : 40}\n",
    "keys = person.keys() # 키 목록 조회\n",
    "values = person.values() # 값 목록 조회\n",
    "print(keys, values)"
   ]
  },
  {
   "cell_type": "code",
   "execution_count": 30,
   "id": "b92bfce7-4854-4b3f-b110-eb1f1e9afd03",
   "metadata": {},
   "outputs": [
    {
     "name": "stdout",
     "output_type": "stream",
     "text": [
      "['이이름', 40]\n"
     ]
    }
   ],
   "source": [
    "values2 = list(values)\n",
    "print(values2)"
   ]
  },
  {
   "cell_type": "code",
   "execution_count": 31,
   "id": "e976b8fe-79b1-40bb-966d-833b7623b4f6",
   "metadata": {},
   "outputs": [
    {
     "name": "stdout",
     "output_type": "stream",
     "text": [
      "dict_items([('name', '이이름'), ('age', 40)])\n"
     ]
    }
   ],
   "source": [
    "items = person.items() # 키, 값 쌍\n",
    "print(items)"
   ]
  },
  {
   "cell_type": "code",
   "execution_count": 32,
   "id": "e01db9ff-2431-43c9-8b0b-1619a83e1471",
   "metadata": {},
   "outputs": [
    {
     "name": "stdout",
     "output_type": "stream",
     "text": [
      "name 이이름\n",
      "age 40\n"
     ]
    }
   ],
   "source": [
    "for name, age in items:\n",
    "    print(name, age)"
   ]
  },
  {
   "cell_type": "code",
   "execution_count": 33,
   "id": "980ae20b-861a-4759-95e4-c36549455b07",
   "metadata": {},
   "outputs": [
    {
     "data": {
      "text/plain": [
       "True"
      ]
     },
     "execution_count": 33,
     "metadata": {},
     "output_type": "execute_result"
    }
   ],
   "source": [
    "'name' in person"
   ]
  },
  {
   "cell_type": "code",
   "execution_count": 25,
   "id": "4d99f451-28c1-48ad-846a-147509e1241a",
   "metadata": {},
   "outputs": [
    {
     "data": {
      "text/plain": [
       "True"
      ]
     },
     "execution_count": 25,
     "metadata": {},
     "output_type": "execute_result"
    }
   ],
   "source": [
    "'age' in person"
   ]
  }
 ],
 "metadata": {
  "kernelspec": {
   "display_name": "Python 3 (ipykernel)",
   "language": "python",
   "name": "python3"
  },
  "language_info": {
   "codemirror_mode": {
    "name": "ipython",
    "version": 3
   },
   "file_extension": ".py",
   "mimetype": "text/x-python",
   "name": "python",
   "nbconvert_exporter": "python",
   "pygments_lexer": "ipython3",
   "version": "3.12.7"
  }
 },
 "nbformat": 4,
 "nbformat_minor": 5
}
