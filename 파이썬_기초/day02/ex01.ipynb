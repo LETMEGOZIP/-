{
 "cells": [
  {
   "cell_type": "code",
   "execution_count": 2,
   "id": "877be347-a318-4b2e-af0a-1f574f9e511b",
   "metadata": {},
   "outputs": [],
   "source": [
    "a = [1,2,3]"
   ]
  },
  {
   "cell_type": "code",
   "execution_count": 3,
   "id": "225551ac-195a-4055-81e0-224c39e9563d",
   "metadata": {},
   "outputs": [
    {
     "data": {
      "text/plain": [
       "[1, 2, 3]"
      ]
     },
     "execution_count": 3,
     "metadata": {},
     "output_type": "execute_result"
    }
   ],
   "source": [
    "a"
   ]
  },
  {
   "cell_type": "code",
   "execution_count": 4,
   "id": "74e8be4a-dc8c-4ca7-a1c4-c8ba9a28a05e",
   "metadata": {},
   "outputs": [
    {
     "data": {
      "text/plain": [
       "1"
      ]
     },
     "execution_count": 4,
     "metadata": {},
     "output_type": "execute_result"
    }
   ],
   "source": [
    "a[0] # 인덱스 번호는 0부터 시작"
   ]
  },
  {
   "cell_type": "code",
   "execution_count": 5,
   "id": "220b876d-78fb-4b16-8b5f-df2a8fb8e563",
   "metadata": {},
   "outputs": [
    {
     "data": {
      "text/plain": [
       "3"
      ]
     },
     "execution_count": 5,
     "metadata": {},
     "output_type": "execute_result"
    }
   ],
   "source": [
    "a[-1]"
   ]
  },
  {
   "cell_type": "code",
   "execution_count": 6,
   "id": "8873257f-0f92-403f-9a30-9969f2511d65",
   "metadata": {},
   "outputs": [],
   "source": [
    "a=[1, 2, 3, ['a', 'b', 'c']]"
   ]
  },
  {
   "cell_type": "code",
   "execution_count": 9,
   "id": "d576a29f-fbad-4edb-95ad-969074e7b9a3",
   "metadata": {},
   "outputs": [
    {
     "data": {
      "text/plain": [
       "'c'"
      ]
     },
     "execution_count": 9,
     "metadata": {},
     "output_type": "execute_result"
    }
   ],
   "source": [
    "a[-1][2]"
   ]
  },
  {
   "cell_type": "code",
   "execution_count": 10,
   "id": "dc2743f1-74f8-4e35-9b61-5c2467716931",
   "metadata": {},
   "outputs": [],
   "source": [
    "a = [1, 2, 3, 4, 5]"
   ]
  },
  {
   "cell_type": "code",
   "execution_count": 11,
   "id": "3674bdcb-5168-4729-954d-d89cdc577a34",
   "metadata": {},
   "outputs": [
    {
     "data": {
      "text/plain": [
       "[1, 2]"
      ]
     },
     "execution_count": 11,
     "metadata": {},
     "output_type": "execute_result"
    }
   ],
   "source": [
    "a[0:2] # 0, 1"
   ]
  },
  {
   "cell_type": "code",
   "execution_count": 12,
   "id": "d27ed041-bd85-46d4-89b2-8e31cbacd60a",
   "metadata": {},
   "outputs": [],
   "source": [
    "a=[1, 2, 3, ['a', 'b', 'c'], 4, 5]"
   ]
  },
  {
   "cell_type": "code",
   "execution_count": 13,
   "id": "be12ba60-362b-4ce2-9f9f-566d17fb1b11",
   "metadata": {},
   "outputs": [
    {
     "data": {
      "text/plain": [
       "['a', 'b']"
      ]
     },
     "execution_count": 13,
     "metadata": {},
     "output_type": "execute_result"
    }
   ],
   "source": [
    "a[3][:2]"
   ]
  },
  {
   "cell_type": "code",
   "execution_count": 14,
   "id": "69969580-ef37-4e3b-8cb9-2067e2d4fdfa",
   "metadata": {},
   "outputs": [
    {
     "name": "stdout",
     "output_type": "stream",
     "text": [
      "[1, 2, 3, 4, 5, 6]\n"
     ]
    }
   ],
   "source": [
    "a = [1, 2, 3]\n",
    "b = [4, 5, 6]\n",
    "c= a + b\n",
    "print(c)"
   ]
  },
  {
   "cell_type": "code",
   "execution_count": 15,
   "id": "87e271fa-663c-4d13-bfe2-85236889f602",
   "metadata": {},
   "outputs": [],
   "source": [
    "d = a*3"
   ]
  },
  {
   "cell_type": "code",
   "execution_count": 16,
   "id": "29862183-e513-4b9a-9f22-7a626698edcf",
   "metadata": {},
   "outputs": [
    {
     "data": {
      "text/plain": [
       "[1, 2, 3, 1, 2, 3, 1, 2, 3]"
      ]
     },
     "execution_count": 16,
     "metadata": {},
     "output_type": "execute_result"
    }
   ],
   "source": [
    "d"
   ]
  },
  {
   "cell_type": "code",
   "execution_count": 17,
   "id": "9a503fa4-0ac5-487f-840b-22708540e80d",
   "metadata": {},
   "outputs": [
    {
     "data": {
      "text/plain": [
       "'1abc'"
      ]
     },
     "execution_count": 17,
     "metadata": {},
     "output_type": "execute_result"
    }
   ],
   "source": [
    "# 1 + 'abc'\n",
    "str(1) + 'abc' # 숫자는 반듯 ㅣ문자로 변경해야 문장려 결합 연산 가능"
   ]
  },
  {
   "cell_type": "code",
   "execution_count": 19,
   "id": "ff5d6ddd-322e-4dba-8b61-28300807c652",
   "metadata": {},
   "outputs": [
    {
     "data": {
      "text/plain": [
       "'2a'"
      ]
     },
     "execution_count": 19,
     "metadata": {},
     "output_type": "execute_result"
    }
   ],
   "source": [
    "a=[1, 2, 3, 'a', 'b', 'c']\n",
    "str(a[1]) + a[3]"
   ]
  },
  {
   "cell_type": "code",
   "execution_count": 20,
   "id": "46435173-072b-413e-9d14-f3bc24b59431",
   "metadata": {},
   "outputs": [
    {
     "data": {
      "text/plain": [
       "[1, 2, 3, 'b', 'c']"
      ]
     },
     "execution_count": 20,
     "metadata": {},
     "output_type": "execute_result"
    }
   ],
   "source": [
    "# a[3] ='A'\n",
    "del a[3] # 인덱스 번호도 삭제 후 재 조정\n",
    "a"
   ]
  },
  {
   "cell_type": "code",
   "execution_count": 21,
   "id": "e9719782-7473-4c5b-8e01-bd4097e17afc",
   "metadata": {},
   "outputs": [],
   "source": [
    "a = [1,2,3]"
   ]
  },
  {
   "cell_type": "code",
   "execution_count": 23,
   "id": "e1a40b04-eb2e-4c3c-90d8-e127cd0fef0c",
   "metadata": {},
   "outputs": [
    {
     "data": {
      "text/plain": [
       "[1, 2, 3, 4]"
      ]
     },
     "execution_count": 23,
     "metadata": {},
     "output_type": "execute_result"
    }
   ],
   "source": [
    "b=a+[4]\n",
    "a.append(4) # a의 원 데이터에 추가"
   ]
  },
  {
   "cell_type": "code",
   "execution_count": 24,
   "id": "8bc2adcd-7209-4924-bb8c-4e50ae6f3f27",
   "metadata": {},
   "outputs": [
    {
     "data": {
      "text/plain": [
       "[5, 4, 3, 2, 1]"
      ]
     },
     "execution_count": 24,
     "metadata": {},
     "output_type": "execute_result"
    }
   ],
   "source": [
    "a=[2,1,3,5,4]\n",
    "# a.sort() # 오름차순 정렬, 원본 데이터를 변경하므로 반환값x\n",
    "# 내림차순은?\n",
    "a.sort()\n",
    "a.reverse()\n",
    "a"
   ]
  },
  {
   "cell_type": "code",
   "execution_count": 25,
   "id": "47bb6b60-62d0-4f78-b32b-dfa16bb500b3",
   "metadata": {},
   "outputs": [
    {
     "ename": "ValueError",
     "evalue": "5555 is not in list",
     "output_type": "error",
     "traceback": [
      "\u001b[1;31m---------------------------------------------------------------------------\u001b[0m",
      "\u001b[1;31mValueError\u001b[0m                                Traceback (most recent call last)",
      "Cell \u001b[1;32mIn[25], line 1\u001b[0m\n\u001b[1;32m----> 1\u001b[0m a\u001b[38;5;241m.\u001b[39mindex(\u001b[38;5;241m5555\u001b[39m)\n",
      "\u001b[1;31mValueError\u001b[0m: 5555 is not in list"
     ]
    }
   ],
   "source": [
    "a.index(5555) # 없을 시 오류"
   ]
  },
  {
   "cell_type": "code",
   "execution_count": 26,
   "id": "e4902ade-c1c9-49ef-a886-89bb9b6f4fbc",
   "metadata": {},
   "outputs": [
    {
     "data": {
      "text/plain": [
       "1"
      ]
     },
     "execution_count": 26,
     "metadata": {},
     "output_type": "execute_result"
    }
   ],
   "source": [
    "a.pop()"
   ]
  },
  {
   "cell_type": "code",
   "execution_count": 27,
   "id": "ea825c89-870d-4a12-89b4-60489ed3e8b7",
   "metadata": {},
   "outputs": [
    {
     "data": {
      "text/plain": [
       "[5, 4, 3, 2]"
      ]
     },
     "execution_count": 27,
     "metadata": {},
     "output_type": "execute_result"
    }
   ],
   "source": [
    "a"
   ]
  },
  {
   "cell_type": "code",
   "execution_count": 28,
   "id": "da482143-c595-4d0e-9c64-b3dbfbffb77b",
   "metadata": {},
   "outputs": [
    {
     "data": {
      "text/plain": [
       "3"
      ]
     },
     "execution_count": 28,
     "metadata": {},
     "output_type": "execute_result"
    }
   ],
   "source": [
    "a.pop(2)"
   ]
  },
  {
   "cell_type": "code",
   "execution_count": 29,
   "id": "9e6ef0e2-941d-42e9-b486-bc830d867404",
   "metadata": {},
   "outputs": [
    {
     "data": {
      "text/plain": [
       "[5, 4, 2]"
      ]
     },
     "execution_count": 29,
     "metadata": {},
     "output_type": "execute_result"
    }
   ],
   "source": [
    "a"
   ]
  },
  {
   "cell_type": "code",
   "execution_count": 31,
   "id": "6112a297-d8e7-4206-991d-081203c07641",
   "metadata": {},
   "outputs": [
    {
     "name": "stdout",
     "output_type": "stream",
     "text": [
      "[5, 4, 2, 4, 5, 6]\n",
      "[5, 4, 2, 4, 5, 6, 4, 5, 6]\n",
      "[5, 4, 2, 4, 5, 6]\n"
     ]
    }
   ],
   "source": [
    "# print(a.extend([4,5,6])) 반환값 없어서 안나온대\n",
    "print(a)\n",
    "print(a + [4, 5, 6]) # 반환값이 있고 원본에 변경 없음 - 불변성\n",
    "print(a)"
   ]
  },
  {
   "cell_type": "code",
   "execution_count": null,
   "id": "7ddd4000-0a17-48fe-8db1-b7ad3789083f",
   "metadata": {},
   "outputs": [],
   "source": []
  }
 ],
 "metadata": {
  "kernelspec": {
   "display_name": "Python 3 (ipykernel)",
   "language": "python",
   "name": "python3"
  },
  "language_info": {
   "codemirror_mode": {
    "name": "ipython",
    "version": 3
   },
   "file_extension": ".py",
   "mimetype": "text/x-python",
   "name": "python",
   "nbconvert_exporter": "python",
   "pygments_lexer": "ipython3",
   "version": "3.12.7"
  }
 },
 "nbformat": 4,
 "nbformat_minor": 5
}
