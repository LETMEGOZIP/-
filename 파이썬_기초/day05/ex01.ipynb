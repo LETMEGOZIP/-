{
 "cells": [
  {
   "cell_type": "code",
   "execution_count": 38,
   "id": "cf8221b9-cbe5-4c72-8287-2f34c037a793",
   "metadata": {
    "editable": true,
    "slideshow": {
     "slide_type": ""
    },
    "tags": []
   },
   "outputs": [
    {
     "ename": "IndentationError",
     "evalue": "unexpected indent (4009909783.py, line 7)",
     "output_type": "error",
     "traceback": [
      "\u001b[1;36m  Cell \u001b[1;32mIn[38], line 7\u001b[1;36m\u001b[0m\n\u001b[1;33m    print(\"예외 발생\")\u001b[0m\n\u001b[1;37m    ^\u001b[0m\n\u001b[1;31mIndentationError\u001b[0m\u001b[1;31m:\u001b[0m unexpected indent\n"
     ]
    }
   ],
   "source": [
    "try: # 예외가 발생할 가능성이 있는 코드 구간\n",
    "    num1 = 10\n",
    "    num2 = 0\n",
    "    result = num1/num2\n",
    "    print(result)\n",
    "except: Exception # 예외에 대한 처리 구간, 다형성\n",
    "    print(\"예외 발생\")\n",
    "    \n",
    "print(\"실행\\n해줘\")"
   ]
  },
  {
   "cell_type": "code",
   "execution_count": 20,
   "id": "39bcafcc-37ea-4ed6-8592-6689c0acee56",
   "metadata": {},
   "outputs": [
    {
     "name": "stdout",
     "output_type": "stream",
     "text": [
      "예외 발생\n",
      "실행\n",
      "해줘\n"
     ]
    }
   ],
   "source": [
    "try: # 예외가 발생할 가능성이 있는 코드 구간\n",
    "    num1 = 10\n",
    "    num2 = 0\n",
    "    result = num1/num2\n",
    "    print(result)\n",
    "except ZeroDivisionError: # 예외에 대한 처리 구간\n",
    "    print(\"예외 발생\")\n",
    "    \n",
    "print(\"실행\\n해줘\")"
   ]
  },
  {
   "cell_type": "code",
   "execution_count": 42,
   "id": "035b6c4c-8ee4-4aff-a772-4e01523474ff",
   "metadata": {},
   "outputs": [
    {
     "name": "stdout",
     "output_type": "stream",
     "text": [
      "5.0\n",
      "'망고' is not in list\n",
      "실행\n",
      "해줘\n"
     ]
    }
   ],
   "source": [
    "try: # 예외가 발생할 가능성이 있는 코드 구간\n",
    "    num1 = 10\n",
    "    num2 = 2\n",
    "    result = num1/num2\n",
    "    print(result)\n",
    "\n",
    "    fruits = ['사과', '멜론', '오렌지']\n",
    "    pos = fruits.index('망고')\n",
    "    print(pos)\n",
    "    \n",
    "except ZeroDivisionError as e: # 예외에 대한 처리 구간, e : 발생한 예외 객체 참조 변수\n",
    "    print(\"예외 발생\")\n",
    "    print(e)\n",
    "except ValueError as e:\n",
    "    print(e)\n",
    "else: # 예외가 발생하지 않으면 실행되는 구간\n",
    "    print(\"잘 처리됨\")\n",
    "    \n",
    "print(\"실행\\n해줘\")"
   ]
  },
  {
   "cell_type": "code",
   "execution_count": 44,
   "id": "d268a070-795a-4662-bd73-6e37a239f53a",
   "metadata": {},
   "outputs": [
    {
     "name": "stdout",
     "output_type": "stream",
     "text": [
      "5.0\n",
      "'망고' is not in list\n",
      "Traceback (most recent call last):\n",
      "  File \"C:\\Users\\admin\\AppData\\Local\\Temp\\ipykernel_7164\\242690737.py\", line 9, in <module>\n",
      "    pos = fruits.index('망고')\n",
      "          ^^^^^^^^^^^^^^^^^^^^\n",
      "ValueError: '망고' is not in list\n",
      "\n",
      "실행\n",
      "해줘\n"
     ]
    }
   ],
   "source": [
    "import traceback\n",
    "try: # 예외가 발생할 가능성이 있는 코드 구간\n",
    "    num1 = 10\n",
    "    num2 = 2\n",
    "    result = num1/num2\n",
    "    print(result)\n",
    "\n",
    "    fruits = ['사과', '멜론', '오렌지']\n",
    "    pos = fruits.index('망고')\n",
    "    print(pos)\n",
    "    \n",
    "except ZeroDivisionError as e: # 예외에 대한 처리 구간, e : 발생한 예외 객체 참조 변수\n",
    "    print(\"예외 발생\")\n",
    "    print(e)\n",
    "    print(traceback.format_exc()) # 예외 발생에 대한 자세한 정보 확인\n",
    "except ValueError as e:\n",
    "    print(e)\n",
    "    print(traceback.format_exc()) # 예외 발생에 대한 자세한 정보 확인\n",
    "\n",
    "    \n",
    "print(\"실행\\n해줘\")"
   ]
  },
  {
   "cell_type": "code",
   "execution_count": 46,
   "id": "9a219829-4d48-4bac-bf05-8bbc953bb8be",
   "metadata": {},
   "outputs": [],
   "source": [
    "def add(a,b):\n",
    "    return a+b # return 하면 함수는 종료\n",
    "    print(\"실행\")"
   ]
  },
  {
   "cell_type": "code",
   "execution_count": 48,
   "id": "66985cdf-a2f3-4199-9998-2a6f00071638",
   "metadata": {},
   "outputs": [
    {
     "data": {
      "text/plain": [
       "30"
      ]
     },
     "execution_count": 48,
     "metadata": {},
     "output_type": "execute_result"
    }
   ],
   "source": [
    "add(10,20)"
   ]
  },
  {
   "cell_type": "code",
   "execution_count": 50,
   "id": "402010e8-319c-4a63-8b67-6ba308311587",
   "metadata": {},
   "outputs": [],
   "source": [
    "def add(a,b):\n",
    "    try:\n",
    "        return a+b # return 하면 함수는 종료\n",
    "    finally:\n",
    "        print(\"실행\")"
   ]
  },
  {
   "cell_type": "code",
   "execution_count": 52,
   "id": "29e1b3e6-ffeb-447b-aeca-000520a376cc",
   "metadata": {},
   "outputs": [
    {
     "name": "stdout",
     "output_type": "stream",
     "text": [
      "실행\n"
     ]
    },
    {
     "data": {
      "text/plain": [
       "30"
      ]
     },
     "execution_count": 52,
     "metadata": {},
     "output_type": "execute_result"
    }
   ],
   "source": [
    "add(10,20)"
   ]
  },
  {
   "cell_type": "code",
   "execution_count": 54,
   "id": "0cdd8973-74af-4e89-b507-866afc4e254e",
   "metadata": {},
   "outputs": [],
   "source": [
    "def login(user_id, user_pass):\n",
    "    if user_id != 'user01':\n",
    "        raise Exception(\"아이디가 일치 안함\")\n",
    "    if user_pass != '1234':\n",
    "        raise Exception(\"비밀번호 일치 안함\")\n",
    "    print(\"로그인성공\")"
   ]
  },
  {
   "cell_type": "code",
   "execution_count": 56,
   "id": "8bdb4492-067c-4d22-b63c-9bc894059aca",
   "metadata": {},
   "outputs": [
    {
     "ename": "Exception",
     "evalue": "아이디가 일치 안함",
     "output_type": "error",
     "traceback": [
      "\u001b[1;31m---------------------------------------------------------------------------\u001b[0m",
      "\u001b[1;31mException\u001b[0m                                 Traceback (most recent call last)",
      "Cell \u001b[1;32mIn[56], line 1\u001b[0m\n\u001b[1;32m----> 1\u001b[0m login(\u001b[38;5;124m\"\u001b[39m\u001b[38;5;124muser02\u001b[39m\u001b[38;5;124m\"\u001b[39m, \u001b[38;5;124m\"\u001b[39m\u001b[38;5;124m234\u001b[39m\u001b[38;5;124m\"\u001b[39m)\n",
      "Cell \u001b[1;32mIn[54], line 3\u001b[0m, in \u001b[0;36mlogin\u001b[1;34m(user_id, user_pass)\u001b[0m\n\u001b[0;32m      1\u001b[0m \u001b[38;5;28;01mdef\u001b[39;00m \u001b[38;5;21mlogin\u001b[39m(user_id, user_pass):\n\u001b[0;32m      2\u001b[0m     \u001b[38;5;28;01mif\u001b[39;00m user_id \u001b[38;5;241m!=\u001b[39m \u001b[38;5;124m'\u001b[39m\u001b[38;5;124muser01\u001b[39m\u001b[38;5;124m'\u001b[39m:\n\u001b[1;32m----> 3\u001b[0m         \u001b[38;5;28;01mraise\u001b[39;00m \u001b[38;5;167;01mException\u001b[39;00m(\u001b[38;5;124m\"\u001b[39m\u001b[38;5;124m아이디가 일치 안함\u001b[39m\u001b[38;5;124m\"\u001b[39m)\n\u001b[0;32m      4\u001b[0m     \u001b[38;5;28;01mif\u001b[39;00m user_pass \u001b[38;5;241m!=\u001b[39m \u001b[38;5;124m'\u001b[39m\u001b[38;5;124m1234\u001b[39m\u001b[38;5;124m'\u001b[39m:\n\u001b[0;32m      5\u001b[0m         \u001b[38;5;28;01mraise\u001b[39;00m \u001b[38;5;167;01mException\u001b[39;00m(\u001b[38;5;124m\"\u001b[39m\u001b[38;5;124m비밀번호 일치 안함\u001b[39m\u001b[38;5;124m\"\u001b[39m)\n",
      "\u001b[1;31mException\u001b[0m: 아이디가 일치 안함"
     ]
    }
   ],
   "source": [
    "login(\"user02\", \"234\")"
   ]
  },
  {
   "cell_type": "code",
   "execution_count": 80,
   "id": "640d9ac0-d1bb-4519-80cc-5435628e5c13",
   "metadata": {},
   "outputs": [],
   "source": [
    "class UserIdException(Exception): # Exception 클래스를 상속 받으면 예외 클래스가 된다\n",
    "    def __init__(self, message):\n",
    "        self.message = message\n",
    "    \n",
    "    def __str__(self):\n",
    "        return self.message\n",
    "\n",
    "class UserPassException(Exception):\n",
    "    def __init__(self, message):\n",
    "        self.message = message\n",
    "    \n",
    "    def __str__(self):\n",
    "        return self.message"
   ]
  },
  {
   "cell_type": "code",
   "execution_count": 82,
   "id": "492f451e-d37f-4286-8d10-bd0f41471fbe",
   "metadata": {},
   "outputs": [],
   "source": [
    "def login(user_id, user_pass):\n",
    "    if user_id != 'user01':\n",
    "        raise UserIdException(\"아이디가 일치하지 않습니다\")\n",
    "    if user_pass != '1234':\n",
    "        raise UserPassException(\"비밀번호가 일치하지 않습니다\")\n",
    "    print(\"로그인 성공\")"
   ]
  },
  {
   "cell_type": "code",
   "execution_count": 84,
   "id": "64f477e0-070f-4348-a656-e73aca77a609",
   "metadata": {},
   "outputs": [
    {
     "name": "stdout",
     "output_type": "stream",
     "text": [
      "아이디가 일치하지 않습니다\n",
      "Traceback (most recent call last):\n",
      "  File \"C:\\Users\\admin\\AppData\\Local\\Temp\\ipykernel_7164\\2727204718.py\", line 3, in <module>\n",
      "    login('user02', '1234')\n",
      "  File \"C:\\Users\\admin\\AppData\\Local\\Temp\\ipykernel_7164\\2139645077.py\", line 3, in login\n",
      "    raise UserIdException(\"아이디가 일치하지 않습니다\")\n",
      "UserIdException: 아이디가 일치하지 않습니다\n",
      "\n"
     ]
    }
   ],
   "source": [
    "import traceback\n",
    "try:\n",
    "    login('user02', '1234')\n",
    "except (UserIdException, UserPassException) as e:\n",
    "    print(e) # __str__ 호출\n",
    "    print(traceback.format_exc())"
   ]
  },
  {
   "cell_type": "code",
   "execution_count": null,
   "id": "ad133e95-fedf-45e0-a439-f275c8722bfe",
   "metadata": {},
   "outputs": [],
   "source": []
  }
 ],
 "metadata": {
  "kernelspec": {
   "display_name": "Python 3 (ipykernel)",
   "language": "python",
   "name": "python3"
  },
  "language_info": {
   "codemirror_mode": {
    "name": "ipython",
    "version": 3
   },
   "file_extension": ".py",
   "mimetype": "text/x-python",
   "name": "python",
   "nbconvert_exporter": "python",
   "pygments_lexer": "ipython3",
   "version": "3.12.7"
  }
 },
 "nbformat": 4,
 "nbformat_minor": 5
}
